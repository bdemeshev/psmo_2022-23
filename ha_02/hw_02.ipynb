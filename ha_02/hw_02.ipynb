{
 "cells": [
  {
   "cell_type": "markdown",
   "metadata": {},
   "source": [
    "# Домашнее задание 2"
   ]
  },
  {
   "cell_type": "markdown",
   "metadata": {},
   "source": [
    "ВАШЕ ИМЯ, ВАША ФАМИЛИЯ, ВАША ГРУППА\n",
    "\n",
    "Дедлайн: 13 ноября 2022, **21:00**\n"
   ]
  },
  {
   "cell_type": "markdown",
   "metadata": {},
   "source": [
    "В этом домашнем задании мы немного поработаем с EM-алгоритмом и научимся с его помощью оценивать более сложные вероятностные модели."
   ]
  },
  {
   "cell_type": "code",
   "execution_count": null,
   "metadata": {},
   "outputs": [],
   "source": [
    "#пожалуйста, импорты только здесь !!!!!!!!!!!!!!!!!!!!!!!!!!!!!!!!!!!!!!!!!!!!!!!!!!!!!!!!!!!!!!!!!!!!!!!!!!!!!!!!!\n",
    "\n",
    "import numpy as np\n",
    "import matplotlib.pyplot as plt\n",
    "%matplotlib inline"
   ]
  },
  {
   "cell_type": "markdown",
   "metadata": {},
   "source": [
    "## Катапульты\n",
    "\n",
    "Гай Гисборн тестирует несколько новейших катапульт, купленных на деньги шерифа Ноттингемского. Робин Гуд со своей командой несколько раз пытался попасть на полигон, но безуспешно -- охрана слишком сильная. Он хотел бы узнать больше о катапультах в распоряжении шерифа, поэтому команда наблюдала за полигоном и записывала, где падали снаряды в течениии длительного времени. Известно, что каждая катапульта тестировалась на своей мишени, которая не изменялась со временем. Показания записаны в файле catapults.pkl (pickle).\n",
    "\n",
    "Для решения задачи предлагается использовать EM-алгоритм и гауссовские смеси.\n",
    "\n",
    "* (1) Опишите ваш алгоритм и выпишите формулы для E-шага и M-шага (достаточно только ответа с пояснением обозначений). Реализуйте EM-алгоритм для оценки смеси гауссиан на плоскости (для удобства приводим шаблон кода с классом GaussianMixtureModel, см. ниже) и протестируйте его на заданной вами (с помощью того же класса) смеси гауссиан, убедитесь, что всё работает корректно. Нарисуйте график изменения критерия ЕМ-алгоритма(функция Q) в зависимости от номера шага, чтобы показать, что алгоритм сошёлся.\n",
    "* (2) Проанализируйте данные из  data1.csv, нарисуйте стартовое распределение точек. Попробуйте, позапускав EM-алгоритм с разными параметрами, понять: (а) сколько всего катапульт у Шерифа  (б) насколько точно они стреляют (в иллюстрации могут помочь нарисованные с помощью matplotlib изолинии для плотности смеси ). "
   ]
  },
  {
   "cell_type": "markdown",
   "metadata": {},
   "source": [
    "### Реализация EM-алгоритма\n",
    "\n",
    "Начнём с пункта 1: нам нужно реализовать рабочий EM-алгоритм для гауссовской смеси."
   ]
  },
  {
   "cell_type": "markdown",
   "metadata": {},
   "source": [
    "ВАШЕ ОПИСАНИЕ И ФОРМУЛЫ ЗДЕСЬ"
   ]
  },
  {
   "cell_type": "markdown",
   "metadata": {},
   "source": [
    "Теперь займёмся кодом. Для начала реализуем базовую модель гауссовской смеси (задание параметров и семплирование),  а затем реализуем EM."
   ]
  },
  {
   "cell_type": "code",
   "execution_count": null,
   "metadata": {},
   "outputs": [],
   "source": [
    "class GaussianMixtureModel:\n",
    "    '''\n",
    "    Implements Gaussian Mixture Model in R^d\n",
    "    '''\n",
    "\n",
    "    def __init__(self,K=1,mus=[0],sigmas=[1], pis=[1]):\n",
    "        '''\n",
    "        Input\n",
    "        int K -- number of components\n",
    "        list(float[] np.array(d)) mus -- K entries of (d,), expected values\n",
    "        list(float[][]) sigmas -- K entries of (d,d,), covariances\n",
    "        list(float) pis -- K floats, weights, positive and sump up to 1\n",
    "        '''\n",
    "        self.K=K\n",
    "        self.mus = mus\n",
    "        self.sigmas = sigmas\n",
    "        self.pis = pis\n",
    "\n",
    "\n",
    "    def sample(self, N=10):\n",
    "        '''\n",
    "        Samples N samples from the model\n",
    "        Input\n",
    "        int N -- number of samples\n",
    "        Output\n",
    "        float[][] -- (N,d), N d-dimensional samples\n",
    "        int[] -- (N,), cluster assignments\n",
    "        '''\n",
    "        pass\n",
    "        #YOUR CODE\n",
    "\n",
    "    def fitEM(self, data, nSteps):\n",
    "        '''\n",
    "        Fits mus and sigmas using EM-algorithm\n",
    "        Input\n",
    "        float[][] data -- (batch, d), given data\n",
    "        int nSteps --  number of steps for EM\n",
    "        '''\n",
    "        pass"
   ]
  },
  {
   "cell_type": "markdown",
   "metadata": {},
   "source": [
    "Задайте произвольную модель и посмотрите, как она выдаёт семплы."
   ]
  },
  {
   "cell_type": "code",
   "execution_count": null,
   "metadata": {},
   "outputs": [],
   "source": [
    "#считаем простой пример\n",
    "mus = [np.array([0,0]),np.array([5,5])]\n",
    "sigmas = [np.array([[1,0],[0,1]]), np.array([[2,0.2],[0.2,2]])]\n",
    "pis = [0.7,0.3]\n",
    "\n",
    "gmmModel = GaussianMixtureModel(2, mus=mus,\\\n",
    "                                   sigmas=sigmas,\\\n",
    "                                   pis = pis)\n",
    "\n",
    "#семплируем 100 точек\n",
    "samples, clusterAssignments = gmmModel.sample(100)"
   ]
  },
  {
   "cell_type": "code",
   "execution_count": null,
   "metadata": {},
   "outputs": [],
   "source": [
    "#Рисуем!!\n",
    "\n",
    "f,ax = plt.subplots(figsize=(7,7))\n",
    "\n",
    "ax.grid()\n",
    "ax.set_title(\"Mixture Plot\")\n",
    "#ax.scatter(...)"
   ]
  },
  {
   "cell_type": "markdown",
   "metadata": {},
   "source": [
    "Теперь реализуйте EM-алгоритм и попробуйте по семплированным ранее данным оценить параметры. В нашем случае пара шагов EM уже приводит к хорошему результату."
   ]
  },
  {
   "cell_type": "code",
   "execution_count": null,
   "metadata": {},
   "outputs": [],
   "source": [
    "gmmModel2 = GaussianMixtureModel(2, mus = [np.zeros(2), np.ones(2)*3], sigmas = [np.eye(2), np.eye(2)*0.5], pis = [0.5,0.5] ) #инициализация с потолочными параметрами\n",
    "#ВАЖНО: ПАРАМЕТРЫ ДОЛЖНЫ БЫТЬ РАЗНЫМИ ДЛЯ РАЗНЫХ КОМПОНЕНТ СМЕСИ!!\n",
    "\n",
    "gmmModel2.fitEM(samples,10)\n",
    "\n",
    "#нарисуйте график изменения критерия Q\n",
    "\n",
    "#напечатайте в консоль значения параметров после fitEM\n",
    "\n",
    "#насемплируйте 100 точек"
   ]
  },
  {
   "cell_type": "code",
   "execution_count": null,
   "metadata": {},
   "outputs": [],
   "source": [
    "#напечатайте семплы подогнанной модели!"
   ]
  },
  {
   "cell_type": "markdown",
   "metadata": {},
   "source": [
    "### Подогнать EM по данным\n",
    "\n",
    "Теперь откройте датасет Робина Гуда с помощью numpy, напечатайте точки на плоскости, как мы делали раньше, и примените EM-алгоритм, чтобы затем аргументированно ответить на поставленные вопросы с помощью графиков."
   ]
  },
  {
   "cell_type": "code",
   "execution_count": null,
   "metadata": {},
   "outputs": [],
   "source": [
    "#поехали!"
   ]
  },
  {
   "cell_type": "markdown",
   "metadata": {},
   "source": []
  },
  {
   "cell_type": "markdown",
   "metadata": {},
   "source": [
    "## Охота на чайники\n",
    "\n",
    "Один частный магазин бытовой техники начали подозревать в том, что он торгует контрафактной продукцией. Формально всё в порядке, однако есть подозрение на то, что продавец вместе с качественными чайниками фирмы \"Жар\" продаёт дешёвую подделку. Общество защиты прав потребителей решает провести своё исследование. Для этого они пытаются понять, какова доля контрафактных чайников среди проданных и насколько вообще контрафактный чайник отличается от качественного.\n",
    "\n",
    "В рассматриваемой обманной схеме предполагается, что продавец закупает $p \\cdot 100\\%$ качественных и $(1-p) \\cdot 100\\%$ контрафактных чайников. Время жизни чайника имеет экспоненциальное распределение с неизвестным параметром, для контрафактного и настоящего чайника этот параметр различается. В распоряжении Общества есть собранные анкеты покупателей (kettles.pkl, pickle), которые обращались по гарантии из-за поломки чайника, где записано время эксплуатации чайника до его поломки (для простоты положим, что по факту от момента покупки до момента поломки).\n",
    "\n",
    "Основываясь на решении первой задачи, попробуйте определить, при условии, что модель верна:\n",
    "\n",
    "1) Какова доля контрафактных чайников?\n",
    "2) Каково среднее время службы контрафактного и качественного чайников? Можно ли уличить продавца в продаже некачественного товара?\n",
    "\n",
    "Не забывайте проверить, что ваш ЕМ-алгоритм сошёлся!"
   ]
  },
  {
   "cell_type": "markdown",
   "metadata": {},
   "source": [
    "Для этого прежде всего реализуйте EM-алгоритм по похожей схеме, как выше, удостоверьтесь, что он работает. Затем откройте датасет и займитесь ответом на вопросы."
   ]
  },
  {
   "cell_type": "markdown",
   "metadata": {},
   "source": [
    "ВАШИ ОБОСНОВАНИЯ"
   ]
  },
  {
   "cell_type": "code",
   "execution_count": null,
   "metadata": {},
   "outputs": [],
   "source": [
    "#ВАШИ КОДЫ\n",
    "\n",
    "# для красивовго рисования смеси как выше рекомендуем такой вариант\n",
    "\n",
    "xs = np.random.exponential(15,size=(100,))\n",
    "ys = np.random.exponential(1,size=(100,))\n",
    "\n",
    "f,ax = plt.subplots(figsize=(5,3))\n",
    "\n",
    "ax.grid()\n",
    "ax.set_xlabel(\"X\")\n",
    "ax.set_title(\"Scatter of the observations\")\n",
    "ax.scatter(xs, np.random.uniform(size=xs.shape))\n",
    "ax.scatter(ys, np.random.uniform(size=ys.shape))"
   ]
  },
  {
   "cell_type": "markdown",
   "metadata": {},
   "source": [
    "В свободной форме"
   ]
  },
  {
   "cell_type": "markdown",
   "metadata": {},
   "source": []
  }
 ],
 "metadata": {
  "kernelspec": {
   "display_name": "Python 3 (ipykernel)",
   "language": "python",
   "name": "python3"
  },
  "language_info": {
   "codemirror_mode": {
    "name": "ipython",
    "version": 3
   },
   "file_extension": ".py",
   "mimetype": "text/x-python",
   "name": "python",
   "nbconvert_exporter": "python",
   "pygments_lexer": "ipython3",
   "version": "3.10.7"
  },
  "vscode": {
   "interpreter": {
    "hash": "d75da1dac404182503559a531177030cede5fb1808a6b0942159d57f066fccfc"
   }
  }
 },
 "nbformat": 4,
 "nbformat_minor": 2
}
